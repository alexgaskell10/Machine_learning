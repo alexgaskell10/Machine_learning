{
 "cells": [
  {
   "cell_type": "code",
   "execution_count": 168,
   "metadata": {},
   "outputs": [],
   "source": [
    "import numpy as np\n",
    "from sklearn.datasets import load_iris\n",
    "import random\n",
    "import operator"
   ]
  },
  {
   "cell_type": "code",
   "execution_count": 3,
   "metadata": {},
   "outputs": [],
   "source": [
    "iris = load_iris()"
   ]
  },
  {
   "cell_type": "code",
   "execution_count": 4,
   "metadata": {},
   "outputs": [
    {
     "data": {
      "text/plain": [
       "dict_keys(['data', 'target', 'target_names', 'DESCR', 'feature_names', 'filename'])"
      ]
     },
     "execution_count": 4,
     "metadata": {},
     "output_type": "execute_result"
    }
   ],
   "source": [
    "iris.keys()\n",
    "# iris['target_names'], set(iris['target'])\n",
    "# iris['feature_names'], iris['data']"
   ]
  },
  {
   "cell_type": "code",
   "execution_count": 328,
   "metadata": {},
   "outputs": [],
   "source": [
    "# create training data and test data\n",
    "random.seed(123)\n",
    "# create feature mask\n",
    "mask1 = random.sample(range(len(iris['data'])), 2*len(iris['data'])//3)\n",
    "mask2 = [i for i in range(len(iris['data'])) if i not in mask1]\n",
    "# mask1 = list(range(100))\n",
    "# mask2 = list(range(100,150))\n",
    "# spit into training data and test data\n",
    "x_train = iris['data'][mask1]\n",
    "x_test = iris['data'][mask2]\n",
    "y_train = iris['target'][mask1]\n",
    "y_test = iris['target'][mask2]"
   ]
  },
  {
   "cell_type": "code",
   "execution_count": 6,
   "metadata": {},
   "outputs": [],
   "source": [
    "# question: is k-NN taking all other classes as given?"
   ]
  },
  {
   "cell_type": "code",
   "execution_count": 352,
   "metadata": {
    "scrolled": true
   },
   "outputs": [
    {
     "data": {
      "text/plain": [
       "98.0"
      ]
     },
     "execution_count": 352,
     "metadata": {},
     "output_type": "execute_result"
    }
   ],
   "source": [
    "def euclidian_norm(x1,x2):\n",
    "    norm = sum([(b-a)**2 for a,b in zip(x1,x2)])**0.5\n",
    "    return norm\n",
    "\n",
    "def target_labels(target, target_names):\n",
    "    # Output a dictionary mapping key:flower species\n",
    "    return {key:name for key,name in zip(set(target),set(target_names))}\n",
    "\n",
    "def knn(x_train, y_train, x, k):\n",
    "    \n",
    "    # Find distance to all other obvs and structure data for each obv as a tuple\n",
    "    nns = []\n",
    "    for p,q in zip(x_train, y_train):\n",
    "        d = euclidian_norm(x, p)\n",
    "        nns.append((d,p,q))\n",
    "        \n",
    "    ## Find the modal label of the k nearest neighbours\n",
    "    nns = sorted(nns, key=operator.itemgetter(0))\n",
    "    # Return the labels of the k nns\n",
    "    knns = list(np.array(nns)[:k,2])\n",
    "    knns_label = max(set(knns), key=knns.count)\n",
    "    return knns_label\n",
    "    \n",
    "k = 5\n",
    "ks = [knn(x_train, y_train, x, k) for x in x_test]\n",
    "target_labels = target_labels(iris['target'], iris['target_names'])\n",
    "accuracy = np.array([(k == y, target_labels[k], target_labels[y]) for k,y in zip(ks, y_test)])\n",
    "100*list(accuracy[:,0]).count('True')/len(x_test)"
   ]
  }
 ],
 "metadata": {
  "kernelspec": {
   "display_name": "Python 3",
   "language": "python",
   "name": "python3"
  },
  "language_info": {
   "codemirror_mode": {
    "name": "ipython",
    "version": 3
   },
   "file_extension": ".py",
   "mimetype": "text/x-python",
   "name": "python",
   "nbconvert_exporter": "python",
   "pygments_lexer": "ipython3",
   "version": "3.7.3"
  }
 },
 "nbformat": 4,
 "nbformat_minor": 2
}
